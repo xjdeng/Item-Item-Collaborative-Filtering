{
 "cells": [
  {
   "cell_type": "code",
   "execution_count": 8,
   "metadata": {},
   "outputs": [
    {
     "data": {
      "text/plain": [
       "<module 'itemitem' from 'D:\\\\JJ\\\\python\\\\Item-Item-Collaborative-Filtering\\\\itemitem.py'>"
      ]
     },
     "execution_count": 8,
     "metadata": {},
     "output_type": "execute_result"
    }
   ],
   "source": [
    "from imp import reload\n",
    "reload(itemitem)"
   ]
  },
  {
   "cell_type": "code",
   "execution_count": 1,
   "metadata": {},
   "outputs": [],
   "source": [
    "import itemitem"
   ]
  },
  {
   "cell_type": "code",
   "execution_count": 9,
   "metadata": {},
   "outputs": [
    {
     "name": "stderr",
     "output_type": "stream",
     "text": [
      "D:\\JJ\\python\\Item-Item-Collaborative-Filtering\\itemitem.py:35: FutureWarning: \n",
      ".ix is deprecated. Please use\n",
      ".loc for label based indexing or\n",
      ".iloc for positional indexing\n",
      "\n",
      "See the documentation here:\n",
      "http://pandas.pydata.org/pandas-docs/stable/user_guide/indexing.html#ix-indexer-is-deprecated\n",
      "  user_vector = data_items.ix[user_index].loc[similar_list]\n"
     ]
    },
    {
     "data": {
      "text/plain": [
       "joy division           0.087840\n",
       "the smiths             0.087004\n",
       "the rolling stones     0.084162\n",
       "david bowie            0.081768\n",
       "tom waits              0.075365\n",
       "belle and sebastian    0.070918\n",
       "eric clapton           0.069710\n",
       "misfits                0.069017\n",
       "the beatles            0.067101\n",
       "elliott smith          0.067058\n",
       "ramones                0.064136\n",
       "jimi hendrix           0.060558\n",
       "depeche mode           0.057806\n",
       "johnny cash            0.055420\n",
       "the doors              0.047377\n",
       "dtype: float64"
      ]
     },
     "execution_count": 9,
     "metadata": {},
     "output_type": "execute_result"
    }
   ],
   "source": [
    "itemitem.run(\"lastfm.csv\", 5985)"
   ]
  },
  {
   "cell_type": "code",
   "execution_count": 3,
   "metadata": {},
   "outputs": [],
   "source": [
    "data_matrix = itemitem.get_data_matrix(\"lastfm.csv\")"
   ]
  },
  {
   "cell_type": "code",
   "execution_count": 4,
   "metadata": {},
   "outputs": [
    {
     "name": "stdout",
     "output_type": "stream",
     "text": [
      "beyonce               1.000000\n",
      "the pussycat dolls    0.351871\n",
      "rihanna               0.334919\n",
      "christina aguilera    0.308388\n",
      "alicia keys           0.297264\n",
      "justin timberlake     0.279726\n",
      "britney spears        0.269557\n",
      "leona lewis           0.259237\n",
      "maria mena            0.248751\n",
      "kelly clarkson        0.245713\n",
      "nelly furtado         0.230789\n",
      "Name: beyonce, dtype: float64\n"
     ]
    }
   ],
   "source": [
    "print(data_matrix.loc['beyonce'].nlargest(11))"
   ]
  },
  {
   "cell_type": "code",
   "execution_count": null,
   "metadata": {},
   "outputs": [],
   "source": []
  }
 ],
 "metadata": {
  "kernelspec": {
   "display_name": "Python 3",
   "language": "python",
   "name": "python3"
  },
  "language_info": {
   "codemirror_mode": {
    "name": "ipython",
    "version": 3
   },
   "file_extension": ".py",
   "mimetype": "text/x-python",
   "name": "python",
   "nbconvert_exporter": "python",
   "pygments_lexer": "ipython3",
   "version": "3.6.8"
  }
 },
 "nbformat": 4,
 "nbformat_minor": 2
}
